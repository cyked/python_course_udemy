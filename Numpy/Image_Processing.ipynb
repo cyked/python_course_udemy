{
 "cells": [
  {
   "cell_type": "code",
   "execution_count": 2,
   "id": "42de4a42-68c1-4937-9206-1dda2ff23470",
   "metadata": {},
   "outputs": [
    {
     "data": {
      "text/plain": [
       "array([ 0,  1,  2,  3,  4,  5,  6,  7,  8,  9, 10, 11, 12, 13, 14, 15, 16,\n",
       "       17, 18, 19, 20, 21, 22, 23, 24, 25, 26])"
      ]
     },
     "execution_count": 2,
     "metadata": {},
     "output_type": "execute_result"
    }
   ],
   "source": [
    "import numpy\n",
    "n=numpy.arange(27)\n",
    "n"
   ]
  },
  {
   "cell_type": "code",
   "execution_count": 3,
   "id": "f826638e-7be2-4eeb-b899-d06b08601793",
   "metadata": {},
   "outputs": [
    {
     "data": {
      "text/plain": [
       "numpy.ndarray"
      ]
     },
     "execution_count": 3,
     "metadata": {},
     "output_type": "execute_result"
    }
   ],
   "source": [
    "type(n)"
   ]
  },
  {
   "cell_type": "code",
   "execution_count": 5,
   "id": "4f79ea06-7a3e-4e53-a4b2-0164c5c57dec",
   "metadata": {},
   "outputs": [
    {
     "data": {
      "text/plain": [
       "array([[[ 0,  1,  2],\n",
       "        [ 3,  4,  5],\n",
       "        [ 6,  7,  8]],\n",
       "\n",
       "       [[ 9, 10, 11],\n",
       "        [12, 13, 14],\n",
       "        [15, 16, 17]],\n",
       "\n",
       "       [[18, 19, 20],\n",
       "        [21, 22, 23],\n",
       "        [24, 25, 26]]])"
      ]
     },
     "execution_count": 5,
     "metadata": {},
     "output_type": "execute_result"
    }
   ],
   "source": [
    "n.reshape(3,3,3)"
   ]
  },
  {
   "cell_type": "code",
   "execution_count": 7,
   "id": "9fe6971e-4206-4166-a7bf-d3d9fe0a437d",
   "metadata": {},
   "outputs": [],
   "source": [
    "m=numpy.asarray([[123,12,123,12,33],[],[]],dtype=object)"
   ]
  },
  {
   "cell_type": "code",
   "execution_count": 8,
   "id": "a30d3da3-872e-4eae-b436-84d16d234ca0",
   "metadata": {},
   "outputs": [
    {
     "data": {
      "text/plain": [
       "numpy.ndarray"
      ]
     },
     "execution_count": 8,
     "metadata": {},
     "output_type": "execute_result"
    }
   ],
   "source": [
    "type(m)"
   ]
  },
  {
   "cell_type": "code",
   "execution_count": 10,
   "id": "a54ba9cb-e5cc-4718-84a3-1b9c168ee789",
   "metadata": {},
   "outputs": [
    {
     "name": "stdout",
     "output_type": "stream",
     "text": [
      "[list([123, 12, 123, 12, 33]) list([]) list([])]\n"
     ]
    }
   ],
   "source": [
    "print(m)"
   ]
  },
  {
   "cell_type": "code",
   "execution_count": 11,
   "id": "42e4d805-dd45-43fb-b0bb-5ee1f64ae311",
   "metadata": {},
   "outputs": [],
   "source": [
    "import cv2"
   ]
  },
  {
   "cell_type": "code",
   "execution_count": 12,
   "id": "386c67b7-6842-4731-9d97-1162614ef2a7",
   "metadata": {},
   "outputs": [
    {
     "data": {
      "text/plain": [
       "array([[187, 158, 104, 121, 143],\n",
       "       [198, 125, 255, 255, 147],\n",
       "       [209, 134, 255,  97, 182]], dtype=uint8)"
      ]
     },
     "execution_count": 12,
     "metadata": {},
     "output_type": "execute_result"
    }
   ],
   "source": [
    "img1=cv2.imread(\"smallgray.png\",0)\n",
    "img1"
   ]
  },
  {
   "cell_type": "code",
   "execution_count": 13,
   "id": "e7f67ddf-d0b8-4ef1-b8b0-73b92a79a2c4",
   "metadata": {},
   "outputs": [
    {
     "data": {
      "text/plain": [
       "array([[[187, 187, 187],\n",
       "        [158, 158, 158],\n",
       "        [104, 104, 104],\n",
       "        [121, 121, 121],\n",
       "        [143, 143, 143]],\n",
       "\n",
       "       [[198, 198, 198],\n",
       "        [125, 125, 125],\n",
       "        [255, 255, 255],\n",
       "        [255, 255, 255],\n",
       "        [147, 147, 147]],\n",
       "\n",
       "       [[209, 209, 209],\n",
       "        [134, 134, 134],\n",
       "        [255, 255, 255],\n",
       "        [ 97,  97,  97],\n",
       "        [182, 182, 182]]], dtype=uint8)"
      ]
     },
     "execution_count": 13,
     "metadata": {},
     "output_type": "execute_result"
    }
   ],
   "source": [
    "img2=cv2.imread(\"smallgray.png\",1)\n",
    "img2"
   ]
  },
  {
   "cell_type": "code",
   "execution_count": 14,
   "id": "0896eb21-b0ee-4932-b96e-9632df34225d",
   "metadata": {},
   "outputs": [
    {
     "data": {
      "text/plain": [
       "True"
      ]
     },
     "execution_count": 14,
     "metadata": {},
     "output_type": "execute_result"
    }
   ],
   "source": [
    "cv2.imwrite(\"newsmallgray.png\",img2)"
   ]
  },
  {
   "cell_type": "code",
   "execution_count": 15,
   "id": "4281f76e-adb7-4a82-9167-9434ad36248a",
   "metadata": {},
   "outputs": [
    {
     "data": {
      "text/plain": [
       "True"
      ]
     },
     "execution_count": 15,
     "metadata": {},
     "output_type": "execute_result"
    }
   ],
   "source": [
    "cv2.imwrite(\"newsmallbnw.png\",img1)"
   ]
  },
  {
   "cell_type": "code",
   "execution_count": 16,
   "id": "d134d19f-dcf6-48ca-bfc8-4195bc539c29",
   "metadata": {},
   "outputs": [
    {
     "data": {
      "text/plain": [
       "104"
      ]
     },
     "execution_count": 16,
     "metadata": {},
     "output_type": "execute_result"
    }
   ],
   "source": [
    "img1[0,2]"
   ]
  },
  {
   "cell_type": "code",
   "execution_count": 17,
   "id": "33280b60-5a41-4733-8ee0-2ad732073a30",
   "metadata": {},
   "outputs": [
    {
     "data": {
      "text/plain": [
       "array([[187, 158, 104, 121, 143],\n",
       "       [198, 125, 255, 255, 147]], dtype=uint8)"
      ]
     },
     "execution_count": 17,
     "metadata": {},
     "output_type": "execute_result"
    }
   ],
   "source": [
    "img1[0:2]"
   ]
  },
  {
   "cell_type": "code",
   "execution_count": 18,
   "id": "69749b42-88e7-4c06-bcd2-466daaea0347",
   "metadata": {},
   "outputs": [
    {
     "data": {
      "text/plain": [
       "array([[104, 121],\n",
       "       [255, 255]], dtype=uint8)"
      ]
     },
     "execution_count": 18,
     "metadata": {},
     "output_type": "execute_result"
    }
   ],
   "source": [
    "img1[0:2,2:4]"
   ]
  },
  {
   "cell_type": "code",
   "execution_count": 21,
   "id": "0f4ef415-b546-4140-a90e-2f34b577e48a",
   "metadata": {},
   "outputs": [
    {
     "data": {
      "text/plain": [
       "(3, 5)"
      ]
     },
     "execution_count": 21,
     "metadata": {},
     "output_type": "execute_result"
    }
   ],
   "source": [
    "img1.shape"
   ]
  },
  {
   "cell_type": "code",
   "execution_count": 23,
   "id": "81d590ac-a938-4a92-b4d0-a90dfeaeffc2",
   "metadata": {},
   "outputs": [
    {
     "name": "stdout",
     "output_type": "stream",
     "text": [
      "[187 158 104 121 143]\n",
      "[198 125 255 255 147]\n",
      "[209 134 255  97 182]\n"
     ]
    }
   ],
   "source": [
    "for i in img1:\n",
    "    print(i)"
   ]
  },
  {
   "cell_type": "code",
   "execution_count": 24,
   "id": "1436c694-b05e-415c-8cc5-00b5d24d7fce",
   "metadata": {},
   "outputs": [
    {
     "name": "stdout",
     "output_type": "stream",
     "text": [
      "[187 198 209]\n",
      "[158 125 134]\n",
      "[104 255 255]\n",
      "[121 255  97]\n",
      "[143 147 182]\n"
     ]
    }
   ],
   "source": [
    "for i in img1.T:\n",
    "    print(i)"
   ]
  },
  {
   "cell_type": "code",
   "execution_count": 25,
   "id": "dac850d1-2fca-45d9-999b-129220c37a48",
   "metadata": {},
   "outputs": [
    {
     "name": "stdout",
     "output_type": "stream",
     "text": [
      "187\n",
      "158\n",
      "104\n",
      "121\n",
      "143\n",
      "198\n",
      "125\n",
      "255\n",
      "255\n",
      "147\n",
      "209\n",
      "134\n",
      "255\n",
      "97\n",
      "182\n"
     ]
    }
   ],
   "source": [
    "for i in img1.flat:\n",
    "    print(i)"
   ]
  },
  {
   "cell_type": "code",
   "execution_count": 28,
   "id": "518be165-b67d-4071-8d43-5150cae2b87d",
   "metadata": {},
   "outputs": [],
   "source": [
    "ims=numpy.hstack((img1,img1))"
   ]
  },
  {
   "cell_type": "code",
   "execution_count": 29,
   "id": "27a5d80d-52b4-4d6e-94c8-169d8ae5a0a3",
   "metadata": {},
   "outputs": [
    {
     "data": {
      "text/plain": [
       "array([[187, 158, 104, 121, 143, 187, 158, 104, 121, 143],\n",
       "       [198, 125, 255, 255, 147, 198, 125, 255, 255, 147],\n",
       "       [209, 134, 255,  97, 182, 209, 134, 255,  97, 182]], dtype=uint8)"
      ]
     },
     "execution_count": 29,
     "metadata": {},
     "output_type": "execute_result"
    }
   ],
   "source": [
    "ims"
   ]
  },
  {
   "cell_type": "code",
   "execution_count": 31,
   "id": "c90512c0-4938-4a5c-8a12-68a3ff753059",
   "metadata": {},
   "outputs": [
    {
     "data": {
      "text/plain": [
       "array([[187, 158, 104, 121, 143],\n",
       "       [198, 125, 255, 255, 147],\n",
       "       [209, 134, 255,  97, 182],\n",
       "       [187, 158, 104, 121, 143],\n",
       "       [198, 125, 255, 255, 147],\n",
       "       [209, 134, 255,  97, 182],\n",
       "       [187, 158, 104, 121, 143],\n",
       "       [198, 125, 255, 255, 147],\n",
       "       [209, 134, 255,  97, 182]], dtype=uint8)"
      ]
     },
     "execution_count": 31,
     "metadata": {},
     "output_type": "execute_result"
    }
   ],
   "source": [
    "ims1=numpy.vstack((img1,img1,img1))\n",
    "ims1"
   ]
  },
  {
   "cell_type": "code",
   "execution_count": 34,
   "id": "1c037cf8-7def-4d8f-9101-124c0bda4ee2",
   "metadata": {},
   "outputs": [
    {
     "data": {
      "text/plain": [
       "[array([[187],\n",
       "        [198],\n",
       "        [209],\n",
       "        [187],\n",
       "        [198],\n",
       "        [209],\n",
       "        [187],\n",
       "        [198],\n",
       "        [209]], dtype=uint8),\n",
       " array([[158],\n",
       "        [125],\n",
       "        [134],\n",
       "        [158],\n",
       "        [125],\n",
       "        [134],\n",
       "        [158],\n",
       "        [125],\n",
       "        [134]], dtype=uint8),\n",
       " array([[104],\n",
       "        [255],\n",
       "        [255],\n",
       "        [104],\n",
       "        [255],\n",
       "        [255],\n",
       "        [104],\n",
       "        [255],\n",
       "        [255]], dtype=uint8),\n",
       " array([[121],\n",
       "        [255],\n",
       "        [ 97],\n",
       "        [121],\n",
       "        [255],\n",
       "        [ 97],\n",
       "        [121],\n",
       "        [255],\n",
       "        [ 97]], dtype=uint8),\n",
       " array([[143],\n",
       "        [147],\n",
       "        [182],\n",
       "        [143],\n",
       "        [147],\n",
       "        [182],\n",
       "        [143],\n",
       "        [147],\n",
       "        [182]], dtype=uint8)]"
      ]
     },
     "execution_count": 34,
     "metadata": {},
     "output_type": "execute_result"
    }
   ],
   "source": [
    "lst=numpy.hsplit(ims1,5)\n",
    "lst"
   ]
  },
  {
   "cell_type": "code",
   "execution_count": 35,
   "id": "c4982218-e5a4-475f-82ed-921f6160a3a1",
   "metadata": {},
   "outputs": [
    {
     "data": {
      "text/plain": [
       "[array([[187, 158, 104, 121, 143]], dtype=uint8),\n",
       " array([[198, 125, 255, 255, 147]], dtype=uint8),\n",
       " array([[209, 134, 255,  97, 182]], dtype=uint8)]"
      ]
     },
     "execution_count": 35,
     "metadata": {},
     "output_type": "execute_result"
    }
   ],
   "source": [
    "lst1 = numpy.vsplit(img1,3)\n",
    "lst1"
   ]
  }
 ],
 "metadata": {
  "kernelspec": {
   "display_name": "Python 3 (ipykernel)",
   "language": "python",
   "name": "python3"
  },
  "language_info": {
   "codemirror_mode": {
    "name": "ipython",
    "version": 3
   },
   "file_extension": ".py",
   "mimetype": "text/x-python",
   "name": "python",
   "nbconvert_exporter": "python",
   "pygments_lexer": "ipython3",
   "version": "3.9.15"
  }
 },
 "nbformat": 4,
 "nbformat_minor": 5
}
